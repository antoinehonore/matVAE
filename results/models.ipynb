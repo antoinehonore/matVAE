{
 "cells": [
  {
   "cell_type": "code",
   "execution_count": 1,
   "id": "b0400e38-83f8-4593-8a7f-50dedb9f5af9",
   "metadata": {},
   "outputs": [],
   "source": [
    "from glob import glob \n",
    "import os \n",
    "from utils_tbox.utils_tbox import read_pklz\n",
    "import lightning as Lit\n",
    "from parse import parse\n",
    "import numpy as np\n",
    "\n",
    "from utils.trainer import lightningdmsEVE#lightningEVE,\n",
    "from utils.models import dmsEVE#lightningEVE,\n",
    "import torch\n",
    "from torch.utils.data import DataLoader\n",
    "\n",
    "def read_fun(fname):\n",
    "    try:\n",
    "        out = read_pklz(fname)\n",
    "    except:\n",
    "        out = None\n",
    "    return out\n",
    "\n",
    "# Find the last checkpoint\n",
    "def get_last_checkpoint(retrain,log_dir,exp_name):\n",
    "    latest_checkpoint = None\n",
    "    if not retrain:\n",
    "        earlier_runs = glob(os.path.join(log_dir, exp_name, \"version*\"))\n",
    "        #print(earlier_runs)\n",
    "        if len(earlier_runs)>0:\n",
    "            latest_run = sorted(earlier_runs, key= lambda s: parse(\"version_{:d}\", os.path.basename(s))[0])[-1]\n",
    "            earlier_runs_checkpoints = glob(os.path.join(latest_run,\"checkpoints\",\"*.ckpt\"))\n",
    "            if len(earlier_runs_checkpoints) > 0:\n",
    "                latest_checkpoint = earlier_runs_checkpoints[0]\n",
    "    return latest_checkpoint\n",
    "def load_checkpoint(fname):\n",
    "    print(\"Loading checkpoint=\",fname)\n",
    "    state_dict = torch.load(fname, map_location=torch.device('cpu'))\n",
    "    \n",
    "    model=dmsEVE(state_dict[\"hyper_parameters\"][\"model_parameters\"])\n",
    "    \n",
    "    from collections import OrderedDict\n",
    "    new_state_dict = OrderedDict()\n",
    "    \n",
    "    for key, value in state_dict[\"state_dict\"].items():\n",
    "        key = \".\".join(key.split(\".\")[1:])\n",
    "        new_state_dict[key] = value\n",
    "    model.load_state_dict(new_state_dict)\n",
    "    \n",
    "    model = lightningdmsEVE(model=model, hparams=state_dict[\"hyper_parameters\"])\n",
    "    \n",
    "    return model"
   ]
  },
  {
   "cell_type": "markdown",
   "id": "b4cace40-41ab-4b3e-938e-ca9f81d00467",
   "metadata": {},
   "source": [
    "# Load checkpoint"
   ]
  },
  {
   "cell_type": "code",
   "execution_count": 2,
   "id": "f2049678-0f4a-48c9-b6da-4986f2919d65",
   "metadata": {},
   "outputs": [
    {
     "name": "stdout",
     "output_type": "stream",
     "text": [
      "Loading checkpoint= ../lightning_logs_complete/indivlatenttodmssimple/11/fold0/version_4/checkpoints/epoch=9089-step=99990.ckpt\n",
      "Protein name= MK01_HUMAN\n"
     ]
    },
    {
     "data": {
      "text/plain": [
       "tensor([[[-1.6425e-01, -1.0845e-01,  3.9820e-01,  ..., -4.5161e-01,\n",
       "           4.7603e-01, -3.3526e-01],\n",
       "         [-1.3580e+00, -7.7614e-01,  1.3165e-01,  ..., -8.3608e-01,\n",
       "          -1.6409e-01, -2.7871e-01],\n",
       "         [-4.2374e-01,  6.0560e-01, -4.4876e-01,  ..., -1.3471e-01,\n",
       "           2.2159e-01,  4.0547e-01],\n",
       "         ...,\n",
       "         [ 6.3283e-02,  4.7008e-01,  4.6019e-01,  ...,  4.2702e-01,\n",
       "           3.8697e-01, -1.1613e+00],\n",
       "         [-4.3329e-01, -6.4604e-02,  6.9149e-01,  ...,  6.1604e-01,\n",
       "           2.6715e-02, -2.3357e-01],\n",
       "         [-5.8444e-01, -5.8697e-01, -3.2510e-01,  ..., -3.1421e-01,\n",
       "          -1.0505e+00,  4.2110e-01]],\n",
       "\n",
       "        [[-3.2535e-01, -1.9387e-01,  3.9797e-01,  ...,  4.2012e-04,\n",
       "           6.9392e-01, -2.2490e-01],\n",
       "         [-7.4271e-01, -6.7622e-01, -1.4302e-01,  ..., -7.4481e-01,\n",
       "          -1.0207e-01, -2.5053e-01],\n",
       "         [-3.8598e-01,  6.5250e-01, -6.5422e-01,  ..., -2.9394e-01,\n",
       "          -4.5420e-02,  3.6937e-01],\n",
       "         ...,\n",
       "         [-1.5160e-01,  4.0887e-01,  3.7187e-01,  ...,  5.4858e-01,\n",
       "           2.2107e-01, -7.9192e-01],\n",
       "         [-4.8293e-01, -4.1380e-02,  3.6424e-01,  ...,  6.5051e-01,\n",
       "           2.0173e-01, -3.0617e-01],\n",
       "         [-4.6591e-01, -5.5748e-01, -2.1238e-01,  ..., -3.5836e-01,\n",
       "          -1.0379e+00,  2.6693e-01]]])"
      ]
     },
     "execution_count": 2,
     "metadata": {},
     "output_type": "execute_result"
    }
   ],
   "source": [
    "# Lightning log folder\n",
    "log_dir = \"../lightning_logs_complete\"\n",
    "\n",
    "# Select fold to reproduce (out of 5)\n",
    "fold_idx = 0\n",
    "\n",
    "# path to the experiment in the log folder\n",
    "exp_name = \"indivlatenttodmssimple/11/fold{}\".format(fold_idx)\n",
    "\n",
    "chkpt_fname = get_last_checkpoint(False,log_dir,exp_name)\n",
    "model = load_checkpoint( chkpt_fname )\n",
    "\n",
    "protein_name = model.hparams[\"model_parameters\"][\"protein_name\"]\n",
    "print(\"Protein name=\",protein_name)\n",
    "\n",
    "L = model.hparams[\"model_parameters\"][\"L\"]\n",
    "\n",
    "# Sanity run with random data\n",
    "with torch.no_grad():\n",
    "    logits, latent_output=model.model(torch.randn(2,L,20))\n",
    "logits"
   ]
  },
  {
   "cell_type": "markdown",
   "id": "5e7f6703-382e-4aeb-903a-8807f0b726db",
   "metadata": {},
   "source": [
    "# Load datasets"
   ]
  },
  {
   "cell_type": "code",
   "execution_count": 3,
   "id": "fe9e06e5-2154-4ca9-a348-fc6fe53135c6",
   "metadata": {},
   "outputs": [],
   "source": [
    "data_dir = \"../data/preprocessed\"\n",
    "all_files = glob(os.path.join(data_dir,\"{}.pklz\".format(protein_name)))\n",
    "\n",
    "fname = all_files[0]\n",
    "\n",
    "msa_dataset, dms_datasets = read_pklz(fname)"
   ]
  },
  {
   "cell_type": "markdown",
   "id": "b1b5297a-5369-419a-befb-5558b1defeb5",
   "metadata": {},
   "source": [
    "# Reproduce data split, select fold and create dataloaders"
   ]
  },
  {
   "cell_type": "code",
   "execution_count": 4,
   "id": "bffe03ac-fdc4-4eca-bd04-00a51a233ec4",
   "metadata": {},
   "outputs": [],
   "source": [
    "from utils.data import prepare_dms_dataloaders#, prepare_msa_dataloaders\n",
    "\n",
    "train_DMS_prot_datasets = {protein_name:dms_datasets}\n",
    "test_DMS_prot_datasets = {}\n",
    "\n",
    "random_state = 12345\n",
    "n_folds=5\n",
    "num_workers=torch.get_num_threads()\n",
    "pin_memory=False\n",
    "verbose=0\n",
    "batch_size=8\n",
    "\n",
    "from sklearn.model_selection import KFold\n",
    "\n",
    "# Seeded random split\n",
    "train_val_idxes = {protein_name: {dataset_name: \n",
    "                                  list(KFold(n_folds, shuffle=True, random_state=random_state).split(np.arange(len(v[dataset_name]))))\n",
    "                                for dataset_name in v.keys()\n",
    "                                }\n",
    "                for protein_name, v in train_DMS_prot_datasets.items()\n",
    "                }\n",
    "\n",
    "train_DMS_prot_dataloaders, test_DMS_prot_dataloaders = \\\n",
    "    prepare_dms_dataloaders(train_DMS_prot_datasets, test_DMS_prot_datasets, num_workers, pin_memory, batch_size,\n",
    "    fold_idx=fold_idx, train_val_idxes=train_val_idxes, verbose=verbose)"
   ]
  },
  {
   "cell_type": "code",
   "execution_count": 5,
   "id": "6678ffd6-01ef-40e7-947c-ac826f805061",
   "metadata": {},
   "outputs": [
    {
     "name": "stderr",
     "output_type": "stream",
     "text": [
      "/home/anthon@ad.cmm.se/virtualenvs/pyfactorial/lib/python3.10/site-packages/lightning/fabric/plugins/environments/slurm.py:191: The `srun` command is available on your system but is not used. HINT: If your intention is to run Lightning on SLURM, prepend your python command with `srun` like so: srun python /home/anthon@ad.cmm.se/virtualenvs/pyfactorial/lib/p ...\n",
      "GPU available: False, used: False\n",
      "TPU available: False, using: 0 TPU cores\n",
      "IPU available: False, using: 0 IPUs\n",
      "HPU available: False, using: 0 HPUs\n"
     ]
    },
    {
     "name": "stdout",
     "output_type": "stream",
     "text": [
      "Validation DataLoader 0: 100%|████████████████| 171/171 [00:09<00:00, 18.94it/s]\n"
     ]
    },
    {
     "data": {
      "text/html": [
       "<pre style=\"white-space:pre;overflow-x:auto;line-height:normal;font-family:Menlo,'DejaVu Sans Mono',consolas,'Courier New',monospace\">┏━━━━━━━━━━━━━━━━━━━━━━━━━━━━━━━━━━━━━━━━━━━━━━━━━━━━━━━━┳━━━━━━━━━━━━━━━━━━━━━━━━━━━━━━━━━━━━━━━━━━━━━━━━━━━━━━━━┓\n",
       "┃<span style=\"font-weight: bold\">                    Validate metric                     </span>┃<span style=\"font-weight: bold\">                      DataLoader 0                      </span>┃\n",
       "┡━━━━━━━━━━━━━━━━━━━━━━━━━━━━━━━━━━━━━━━━━━━━━━━━━━━━━━━━╇━━━━━━━━━━━━━━━━━━━━━━━━━━━━━━━━━━━━━━━━━━━━━━━━━━━━━━━━┩\n",
       "│<span style=\"color: #008080; text-decoration-color: #008080\">     binary_accuracy/dms_MK01_HUMAN_Brenan_2016.csv     </span>│<span style=\"color: #800080; text-decoration-color: #800080\">                   0.5132158398628235                   </span>│\n",
       "│<span style=\"color: #008080; text-decoration-color: #008080\"> binary_accuracy/dms_MK01_HUMAN_Brenan_2016.csv/dmsELBO </span>│<span style=\"color: #800080; text-decoration-color: #800080\">                   0.5132158398628235                   </span>│\n",
       "│<span style=\"color: #008080; text-decoration-color: #008080\"> binary_accuracy/dms_MK01_HUMAN_Brenan_2016.csv/latent  </span>│<span style=\"color: #800080; text-decoration-color: #800080\">                   0.5132158398628235                   </span>│\n",
       "│<span style=\"color: #008080; text-decoration-color: #008080\">      binary_auprc/dms_MK01_HUMAN_Brenan_2016.csv       </span>│<span style=\"color: #800080; text-decoration-color: #800080\">                   0.5268720984458923                   </span>│\n",
       "│<span style=\"color: #008080; text-decoration-color: #008080\">  binary_auprc/dms_MK01_HUMAN_Brenan_2016.csv/dmsELBO   </span>│<span style=\"color: #800080; text-decoration-color: #800080\">                   0.3022655248641968                   </span>│\n",
       "│<span style=\"color: #008080; text-decoration-color: #008080\">   binary_auprc/dms_MK01_HUMAN_Brenan_2016.csv/latent   </span>│<span style=\"color: #800080; text-decoration-color: #800080\">                   0.9718227982521057                   </span>│\n",
       "│<span style=\"color: #008080; text-decoration-color: #008080\">      binary_auroc/dms_MK01_HUMAN_Brenan_2016.csv       </span>│<span style=\"color: #800080; text-decoration-color: #800080\">                   0.5451215591331724                   </span>│\n",
       "│<span style=\"color: #008080; text-decoration-color: #008080\">  binary_auroc/dms_MK01_HUMAN_Brenan_2016.csv/dmsELBO   </span>│<span style=\"color: #800080; text-decoration-color: #800080\">                  0.05724186890559019                   </span>│\n",
       "│<span style=\"color: #008080; text-decoration-color: #008080\">   binary_auroc/dms_MK01_HUMAN_Brenan_2016.csv/latent   </span>│<span style=\"color: #800080; text-decoration-color: #800080\">                   0.9697887738786501                   </span>│\n",
       "│<span style=\"color: #008080; text-decoration-color: #008080\">     binary_f1_score/dms_MK01_HUMAN_Brenan_2016.csv     </span>│<span style=\"color: #800080; text-decoration-color: #800080\">                          0.0                           </span>│\n",
       "│<span style=\"color: #008080; text-decoration-color: #008080\"> binary_f1_score/dms_MK01_HUMAN_Brenan_2016.csv/dmsELBO </span>│<span style=\"color: #800080; text-decoration-color: #800080\">                          0.0                           </span>│\n",
       "│<span style=\"color: #008080; text-decoration-color: #008080\"> binary_f1_score/dms_MK01_HUMAN_Brenan_2016.csv/latent  </span>│<span style=\"color: #800080; text-decoration-color: #800080\">                          0.0                           </span>│\n",
       "│<span style=\"color: #008080; text-decoration-color: #008080\">    binary_precision/dms_MK01_HUMAN_Brenan_2016.csv     </span>│<span style=\"color: #800080; text-decoration-color: #800080\">                          0.0                           </span>│\n",
       "│<span style=\"color: #008080; text-decoration-color: #008080\"> binary_precision/dms_MK01_HUMAN_Brenan_2016.csv/dmsEL… </span>│<span style=\"color: #800080; text-decoration-color: #800080\">                          0.0                           </span>│\n",
       "│<span style=\"color: #008080; text-decoration-color: #008080\"> binary_precision/dms_MK01_HUMAN_Brenan_2016.csv/latent </span>│<span style=\"color: #800080; text-decoration-color: #800080\">                          0.0                           </span>│\n",
       "│<span style=\"color: #008080; text-decoration-color: #008080\">      binary_recall/dms_MK01_HUMAN_Brenan_2016.csv      </span>│<span style=\"color: #800080; text-decoration-color: #800080\">                          0.0                           </span>│\n",
       "│<span style=\"color: #008080; text-decoration-color: #008080\">  binary_recall/dms_MK01_HUMAN_Brenan_2016.csv/dmsELBO  </span>│<span style=\"color: #800080; text-decoration-color: #800080\">                          0.0                           </span>│\n",
       "│<span style=\"color: #008080; text-decoration-color: #008080\">  binary_recall/dms_MK01_HUMAN_Brenan_2016.csv/latent   </span>│<span style=\"color: #800080; text-decoration-color: #800080\">                          0.0                           </span>│\n",
       "│<span style=\"color: #008080; text-decoration-color: #008080\">                  hp/earlystop_metric                   </span>│<span style=\"color: #800080; text-decoration-color: #800080\">                  0.11204680055379868                   </span>│\n",
       "│<span style=\"color: #008080; text-decoration-color: #008080\">           r2/dms_MK01_HUMAN_Brenan_2016.csv            </span>│<span style=\"color: #800080; text-decoration-color: #800080\">                   -50.52971649169922                   </span>│\n",
       "│<span style=\"color: #008080; text-decoration-color: #008080\">       r2/dms_MK01_HUMAN_Brenan_2016.csv/dmsELBO        </span>│<span style=\"color: #800080; text-decoration-color: #800080\">                   -5.770164966583252                   </span>│\n",
       "│<span style=\"color: #008080; text-decoration-color: #008080\">        r2/dms_MK01_HUMAN_Brenan_2016.csv/latent        </span>│<span style=\"color: #800080; text-decoration-color: #800080\">                   0.7769248485565186                   </span>│\n",
       "│<span style=\"color: #008080; text-decoration-color: #008080\">        spearmanr/dms_MK01_HUMAN_Brenan_2016.csv        </span>│<span style=\"color: #800080; text-decoration-color: #800080\">                  0.11204680055379868                   </span>│\n",
       "│<span style=\"color: #008080; text-decoration-color: #008080\">    spearmanr/dms_MK01_HUMAN_Brenan_2016.csv/dmsELBO    </span>│<span style=\"color: #800080; text-decoration-color: #800080\">                  -0.8586940765380859                   </span>│\n",
       "│<span style=\"color: #008080; text-decoration-color: #008080\">    spearmanr/dms_MK01_HUMAN_Brenan_2016.csv/latent     </span>│<span style=\"color: #800080; text-decoration-color: #800080\">                   0.8767576217651367                   </span>│\n",
       "└────────────────────────────────────────────────────────┴────────────────────────────────────────────────────────┘\n",
       "</pre>\n"
      ],
      "text/plain": [
       "┏━━━━━━━━━━━━━━━━━━━━━━━━━━━━━━━━━━━━━━━━━━━━━━━━━━━━━━━━┳━━━━━━━━━━━━━━━━━━━━━━━━━━━━━━━━━━━━━━━━━━━━━━━━━━━━━━━━┓\n",
       "┃\u001b[1m \u001b[0m\u001b[1m                   Validate metric                    \u001b[0m\u001b[1m \u001b[0m┃\u001b[1m \u001b[0m\u001b[1m                     DataLoader 0                     \u001b[0m\u001b[1m \u001b[0m┃\n",
       "┡━━━━━━━━━━━━━━━━━━━━━━━━━━━━━━━━━━━━━━━━━━━━━━━━━━━━━━━━╇━━━━━━━━━━━━━━━━━━━━━━━━━━━━━━━━━━━━━━━━━━━━━━━━━━━━━━━━┩\n",
       "│\u001b[36m \u001b[0m\u001b[36m    binary_accuracy/dms_MK01_HUMAN_Brenan_2016.csv    \u001b[0m\u001b[36m \u001b[0m│\u001b[35m \u001b[0m\u001b[35m                  0.5132158398628235                  \u001b[0m\u001b[35m \u001b[0m│\n",
       "│\u001b[36m \u001b[0m\u001b[36mbinary_accuracy/dms_MK01_HUMAN_Brenan_2016.csv/dmsELBO\u001b[0m\u001b[36m \u001b[0m│\u001b[35m \u001b[0m\u001b[35m                  0.5132158398628235                  \u001b[0m\u001b[35m \u001b[0m│\n",
       "│\u001b[36m \u001b[0m\u001b[36mbinary_accuracy/dms_MK01_HUMAN_Brenan_2016.csv/latent \u001b[0m\u001b[36m \u001b[0m│\u001b[35m \u001b[0m\u001b[35m                  0.5132158398628235                  \u001b[0m\u001b[35m \u001b[0m│\n",
       "│\u001b[36m \u001b[0m\u001b[36m     binary_auprc/dms_MK01_HUMAN_Brenan_2016.csv      \u001b[0m\u001b[36m \u001b[0m│\u001b[35m \u001b[0m\u001b[35m                  0.5268720984458923                  \u001b[0m\u001b[35m \u001b[0m│\n",
       "│\u001b[36m \u001b[0m\u001b[36m binary_auprc/dms_MK01_HUMAN_Brenan_2016.csv/dmsELBO  \u001b[0m\u001b[36m \u001b[0m│\u001b[35m \u001b[0m\u001b[35m                  0.3022655248641968                  \u001b[0m\u001b[35m \u001b[0m│\n",
       "│\u001b[36m \u001b[0m\u001b[36m  binary_auprc/dms_MK01_HUMAN_Brenan_2016.csv/latent  \u001b[0m\u001b[36m \u001b[0m│\u001b[35m \u001b[0m\u001b[35m                  0.9718227982521057                  \u001b[0m\u001b[35m \u001b[0m│\n",
       "│\u001b[36m \u001b[0m\u001b[36m     binary_auroc/dms_MK01_HUMAN_Brenan_2016.csv      \u001b[0m\u001b[36m \u001b[0m│\u001b[35m \u001b[0m\u001b[35m                  0.5451215591331724                  \u001b[0m\u001b[35m \u001b[0m│\n",
       "│\u001b[36m \u001b[0m\u001b[36m binary_auroc/dms_MK01_HUMAN_Brenan_2016.csv/dmsELBO  \u001b[0m\u001b[36m \u001b[0m│\u001b[35m \u001b[0m\u001b[35m                 0.05724186890559019                  \u001b[0m\u001b[35m \u001b[0m│\n",
       "│\u001b[36m \u001b[0m\u001b[36m  binary_auroc/dms_MK01_HUMAN_Brenan_2016.csv/latent  \u001b[0m\u001b[36m \u001b[0m│\u001b[35m \u001b[0m\u001b[35m                  0.9697887738786501                  \u001b[0m\u001b[35m \u001b[0m│\n",
       "│\u001b[36m \u001b[0m\u001b[36m    binary_f1_score/dms_MK01_HUMAN_Brenan_2016.csv    \u001b[0m\u001b[36m \u001b[0m│\u001b[35m \u001b[0m\u001b[35m                         0.0                          \u001b[0m\u001b[35m \u001b[0m│\n",
       "│\u001b[36m \u001b[0m\u001b[36mbinary_f1_score/dms_MK01_HUMAN_Brenan_2016.csv/dmsELBO\u001b[0m\u001b[36m \u001b[0m│\u001b[35m \u001b[0m\u001b[35m                         0.0                          \u001b[0m\u001b[35m \u001b[0m│\n",
       "│\u001b[36m \u001b[0m\u001b[36mbinary_f1_score/dms_MK01_HUMAN_Brenan_2016.csv/latent \u001b[0m\u001b[36m \u001b[0m│\u001b[35m \u001b[0m\u001b[35m                         0.0                          \u001b[0m\u001b[35m \u001b[0m│\n",
       "│\u001b[36m \u001b[0m\u001b[36m   binary_precision/dms_MK01_HUMAN_Brenan_2016.csv    \u001b[0m\u001b[36m \u001b[0m│\u001b[35m \u001b[0m\u001b[35m                         0.0                          \u001b[0m\u001b[35m \u001b[0m│\n",
       "│\u001b[36m \u001b[0m\u001b[36mbinary_precision/dms_MK01_HUMAN_Brenan_2016.csv/dmsEL…\u001b[0m\u001b[36m \u001b[0m│\u001b[35m \u001b[0m\u001b[35m                         0.0                          \u001b[0m\u001b[35m \u001b[0m│\n",
       "│\u001b[36m \u001b[0m\u001b[36mbinary_precision/dms_MK01_HUMAN_Brenan_2016.csv/latent\u001b[0m\u001b[36m \u001b[0m│\u001b[35m \u001b[0m\u001b[35m                         0.0                          \u001b[0m\u001b[35m \u001b[0m│\n",
       "│\u001b[36m \u001b[0m\u001b[36m     binary_recall/dms_MK01_HUMAN_Brenan_2016.csv     \u001b[0m\u001b[36m \u001b[0m│\u001b[35m \u001b[0m\u001b[35m                         0.0                          \u001b[0m\u001b[35m \u001b[0m│\n",
       "│\u001b[36m \u001b[0m\u001b[36m binary_recall/dms_MK01_HUMAN_Brenan_2016.csv/dmsELBO \u001b[0m\u001b[36m \u001b[0m│\u001b[35m \u001b[0m\u001b[35m                         0.0                          \u001b[0m\u001b[35m \u001b[0m│\n",
       "│\u001b[36m \u001b[0m\u001b[36m binary_recall/dms_MK01_HUMAN_Brenan_2016.csv/latent  \u001b[0m\u001b[36m \u001b[0m│\u001b[35m \u001b[0m\u001b[35m                         0.0                          \u001b[0m\u001b[35m \u001b[0m│\n",
       "│\u001b[36m \u001b[0m\u001b[36m                 hp/earlystop_metric                  \u001b[0m\u001b[36m \u001b[0m│\u001b[35m \u001b[0m\u001b[35m                 0.11204680055379868                  \u001b[0m\u001b[35m \u001b[0m│\n",
       "│\u001b[36m \u001b[0m\u001b[36m          r2/dms_MK01_HUMAN_Brenan_2016.csv           \u001b[0m\u001b[36m \u001b[0m│\u001b[35m \u001b[0m\u001b[35m                  -50.52971649169922                  \u001b[0m\u001b[35m \u001b[0m│\n",
       "│\u001b[36m \u001b[0m\u001b[36m      r2/dms_MK01_HUMAN_Brenan_2016.csv/dmsELBO       \u001b[0m\u001b[36m \u001b[0m│\u001b[35m \u001b[0m\u001b[35m                  -5.770164966583252                  \u001b[0m\u001b[35m \u001b[0m│\n",
       "│\u001b[36m \u001b[0m\u001b[36m       r2/dms_MK01_HUMAN_Brenan_2016.csv/latent       \u001b[0m\u001b[36m \u001b[0m│\u001b[35m \u001b[0m\u001b[35m                  0.7769248485565186                  \u001b[0m\u001b[35m \u001b[0m│\n",
       "│\u001b[36m \u001b[0m\u001b[36m       spearmanr/dms_MK01_HUMAN_Brenan_2016.csv       \u001b[0m\u001b[36m \u001b[0m│\u001b[35m \u001b[0m\u001b[35m                 0.11204680055379868                  \u001b[0m\u001b[35m \u001b[0m│\n",
       "│\u001b[36m \u001b[0m\u001b[36m   spearmanr/dms_MK01_HUMAN_Brenan_2016.csv/dmsELBO   \u001b[0m\u001b[36m \u001b[0m│\u001b[35m \u001b[0m\u001b[35m                 -0.8586940765380859                  \u001b[0m\u001b[35m \u001b[0m│\n",
       "│\u001b[36m \u001b[0m\u001b[36m   spearmanr/dms_MK01_HUMAN_Brenan_2016.csv/latent    \u001b[0m\u001b[36m \u001b[0m│\u001b[35m \u001b[0m\u001b[35m                  0.8767576217651367                  \u001b[0m\u001b[35m \u001b[0m│\n",
       "└────────────────────────────────────────────────────────┴────────────────────────────────────────────────────────┘\n"
      ]
     },
     "metadata": {},
     "output_type": "display_data"
    },
    {
     "data": {
      "text/plain": [
       "[{'r2/dms_MK01_HUMAN_Brenan_2016.csv': -50.52971649169922,\n",
       "  'spearmanr/dms_MK01_HUMAN_Brenan_2016.csv': 0.11204680055379868,\n",
       "  'binary_auroc/dms_MK01_HUMAN_Brenan_2016.csv': 0.5451215591331724,\n",
       "  'binary_auprc/dms_MK01_HUMAN_Brenan_2016.csv': 0.5268720984458923,\n",
       "  'binary_precision/dms_MK01_HUMAN_Brenan_2016.csv': 0.0,\n",
       "  'binary_recall/dms_MK01_HUMAN_Brenan_2016.csv': 0.0,\n",
       "  'binary_f1_score/dms_MK01_HUMAN_Brenan_2016.csv': 0.0,\n",
       "  'binary_accuracy/dms_MK01_HUMAN_Brenan_2016.csv': 0.5132158398628235,\n",
       "  'r2/dms_MK01_HUMAN_Brenan_2016.csv/latent': 0.7769248485565186,\n",
       "  'spearmanr/dms_MK01_HUMAN_Brenan_2016.csv/latent': 0.8767576217651367,\n",
       "  'binary_auroc/dms_MK01_HUMAN_Brenan_2016.csv/latent': 0.9697887738786501,\n",
       "  'binary_auprc/dms_MK01_HUMAN_Brenan_2016.csv/latent': 0.9718227982521057,\n",
       "  'binary_precision/dms_MK01_HUMAN_Brenan_2016.csv/latent': 0.0,\n",
       "  'binary_recall/dms_MK01_HUMAN_Brenan_2016.csv/latent': 0.0,\n",
       "  'binary_f1_score/dms_MK01_HUMAN_Brenan_2016.csv/latent': 0.0,\n",
       "  'binary_accuracy/dms_MK01_HUMAN_Brenan_2016.csv/latent': 0.5132158398628235,\n",
       "  'r2/dms_MK01_HUMAN_Brenan_2016.csv/dmsELBO': -5.770164966583252,\n",
       "  'spearmanr/dms_MK01_HUMAN_Brenan_2016.csv/dmsELBO': -0.8586940765380859,\n",
       "  'binary_auroc/dms_MK01_HUMAN_Brenan_2016.csv/dmsELBO': 0.05724186890559019,\n",
       "  'binary_auprc/dms_MK01_HUMAN_Brenan_2016.csv/dmsELBO': 0.3022655248641968,\n",
       "  'binary_precision/dms_MK01_HUMAN_Brenan_2016.csv/dmsELBO': 0.0,\n",
       "  'binary_recall/dms_MK01_HUMAN_Brenan_2016.csv/dmsELBO': 0.0,\n",
       "  'binary_f1_score/dms_MK01_HUMAN_Brenan_2016.csv/dmsELBO': 0.0,\n",
       "  'binary_accuracy/dms_MK01_HUMAN_Brenan_2016.csv/dmsELBO': 0.5132158398628235,\n",
       "  'hp/earlystop_metric': 0.11204680055379868}]"
      ]
     },
     "execution_count": 5,
     "metadata": {},
     "output_type": "execute_result"
    }
   ],
   "source": [
    "Lit.Trainer().validate(model,test_DMS_prot_dataloaders)"
   ]
  }
 ],
 "metadata": {
  "kernelspec": {
   "display_name": "pyfactorial",
   "language": "python",
   "name": "pyfactorial"
  },
  "language_info": {
   "codemirror_mode": {
    "name": "ipython",
    "version": 3
   },
   "file_extension": ".py",
   "mimetype": "text/x-python",
   "name": "python",
   "nbconvert_exporter": "python",
   "pygments_lexer": "ipython3",
   "version": "3.10.12"
  }
 },
 "nbformat": 4,
 "nbformat_minor": 5
}
