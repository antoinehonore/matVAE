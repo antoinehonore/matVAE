{
 "cells": [
  {
   "cell_type": "code",
   "execution_count": 1,
   "id": "b0400e38-83f8-4593-8a7f-50dedb9f5af9",
   "metadata": {},
   "outputs": [],
   "source": [
    "from glob import glob \n",
    "import os \n",
    "from utils_tbox.utils_tbox import read_pklz\n",
    "import lightning as Lit\n",
    "from parse import parse\n",
    "import numpy as np\n",
    "import matplotlib\n",
    "\n",
    "from utils.trainer import lightningdmsEVE#lightningEVE,\n",
    "from utils.models import dmsEVE#lightningEVE,\n",
    "import torch\n",
    "from torch.utils.data import DataLoader\n",
    "import warnings\n",
    "\n",
    "# Suppress the specific warning about NVML initialization\n",
    "warnings.filterwarnings(\"ignore\", message=\"Can't initialize NVML\")\n",
    "\n",
    "\n",
    "def read_fun(fname):\n",
    "    try:\n",
    "        out = read_pklz(fname)\n",
    "    except:\n",
    "        out = None\n",
    "    return out\n",
    "\n",
    "# Find the last checkpoint\n",
    "def get_last_checkpoint(retrain,log_dir,exp_name):\n",
    "    latest_checkpoint = None\n",
    "    if not retrain: # If retrain is true, skip this and return None\n",
    "        earlier_runs = glob(os.path.join(log_dir, exp_name, \"version*\"))\n",
    "        #print(earlier_runs)\n",
    "        if len(earlier_runs)>0:\n",
    "            latest_run = sorted(earlier_runs, key= lambda s: parse(\"version_{:d}\", os.path.basename(s))[0])[-1]\n",
    "            earlier_runs_checkpoints = glob(os.path.join(latest_run,\"checkpoints\",\"*.ckpt\"))\n",
    "            if len(earlier_runs_checkpoints) > 0:\n",
    "                latest_checkpoint = earlier_runs_checkpoints[0]\n",
    "    return latest_checkpoint\n",
    "def load_checkpoint(fname):\n",
    "    print(\"Loading checkpoint=\",fname)\n",
    "    state_dict = torch.load(fname, map_location=torch.device('cpu'),weights_only=True)\n",
    "    \n",
    "    model=dmsEVE(state_dict[\"hyper_parameters\"][\"model_parameters\"])\n",
    "    \n",
    "    from collections import OrderedDict\n",
    "    new_state_dict = OrderedDict()\n",
    "    \n",
    "    for key, value in state_dict[\"state_dict\"].items():\n",
    "        key = \".\".join(key.split(\".\")[1:])\n",
    "        new_state_dict[key] = value\n",
    "    model.load_state_dict(new_state_dict)\n",
    "    \n",
    "    model = lightningdmsEVE(model=model, hparams=state_dict[\"hyper_parameters\"])\n",
    "    \n",
    "    return model"
   ]
  },
  {
   "cell_type": "markdown",
   "id": "b4cace40-41ab-4b3e-938e-ca9f81d00467",
   "metadata": {},
   "source": [
    "# Load checkpoint"
   ]
  },
  {
   "cell_type": "code",
   "execution_count": 7,
   "id": "f2049678-0f4a-48c9-b6da-4986f2919d65",
   "metadata": {},
   "outputs": [
    {
     "name": "stdout",
     "output_type": "stream",
     "text": [
      "Loading checkpoint= ../lightning_logs_cp2c9/matVAEVAMP5/6/fold0/version_0/checkpoints/last.ckpt\n",
      "Protein name= CP2C9_HUMAN\n"
     ]
    },
    {
     "data": {
      "text/plain": [
       "tensor([[[ 3.5711,  3.0583, -2.9666,  ...,  5.2661, -0.1504,  0.1755],\n",
       "         [-1.6088,  0.7565, -2.1933,  ...,  5.4635, -1.7634,  2.2224],\n",
       "         [ 4.7438,  2.1137, -0.5398,  ...,  3.3383, -0.8061, -0.3769],\n",
       "         ...,\n",
       "         [ 0.4912, -1.4003, -1.6558,  ...,  2.3844, -3.6393, -1.2396],\n",
       "         [-1.3261,  0.8542, -1.0990,  ..., -0.1457, -2.9468,  1.1663],\n",
       "         [ 1.2296, -2.0336, -0.6887,  ...,  2.9915, -2.2282, -1.0011]],\n",
       "\n",
       "        [[ 3.5710,  3.0587, -2.9673,  ...,  5.2657, -0.1500,  0.1758],\n",
       "         [-1.6089,  0.7578, -2.1931,  ...,  5.4622, -1.7671,  2.2234],\n",
       "         [ 4.7449,  2.1135, -0.5395,  ...,  3.3386, -0.8057, -0.3772],\n",
       "         ...,\n",
       "         [ 0.4914, -1.4009, -1.6562,  ...,  2.3840, -3.6388, -1.2388],\n",
       "         [-1.3266,  0.8512, -1.0983,  ..., -0.1447, -2.9508,  1.1654],\n",
       "         [ 1.2300, -2.0343, -0.6892,  ...,  2.9909, -2.2281, -0.9987]]])"
      ]
     },
     "execution_count": 7,
     "metadata": {},
     "output_type": "execute_result"
    }
   ],
   "source": [
    "# Lightning log folder\n",
    "log_dir = \"../lightning_logs_cp2c9\"\n",
    "\n",
    "# Select fold to reproduce (out of 5)\n",
    "fold_idx = 0\n",
    "\n",
    "# path to the experiment in the log folder\n",
    "exp_name = \"matVAEVAMP5/6/fold{}\".format(fold_idx)\n",
    "\n",
    "chkpt_fname = get_last_checkpoint(False,log_dir,exp_name)\n",
    "model = load_checkpoint( chkpt_fname )\n",
    "matplotlib.pyplot.close()\n",
    "\n",
    "protein_name = model.hparams[\"model_parameters\"][\"protein_name\"]\n",
    "print(\"Protein name=\",protein_name)\n",
    "\n",
    "L = model.hparams[\"model_parameters\"][\"L\"]\n",
    "\n",
    "# Sanity run with random data\n",
    "with torch.no_grad():\n",
    "    logits, latent_output=model.model(torch.randn(2,L,20))\n",
    "logits"
   ]
  },
  {
   "cell_type": "markdown",
   "id": "5e7f6703-382e-4aeb-903a-8807f0b726db",
   "metadata": {
    "jp-MarkdownHeadingCollapsed": true
   },
   "source": [
    "# Load datasets"
   ]
  },
  {
   "cell_type": "code",
   "execution_count": null,
   "id": "fe9e06e5-2154-4ca9-a348-fc6fe53135c6",
   "metadata": {},
   "outputs": [],
   "source": [
    "data_dir = \"../data/preprocessed\"\n",
    "all_files = glob(os.path.join(data_dir,\"{}.pklz\".format(protein_name)))\n",
    "\n",
    "fname = all_files[0]\n",
    "\n",
    "msa_dataset, dms_datasets = read_pklz(fname)"
   ]
  },
  {
   "cell_type": "markdown",
   "id": "b1b5297a-5369-419a-befb-5558b1defeb5",
   "metadata": {},
   "source": [
    "# Reproduce data split, select fold and create dataloaders"
   ]
  },
  {
   "cell_type": "code",
   "execution_count": null,
   "id": "bffe03ac-fdc4-4eca-bd04-00a51a233ec4",
   "metadata": {},
   "outputs": [],
   "source": [
    "from utils.data import prepare_dms_dataloaders#, prepare_msa_dataloaders\n",
    "\n",
    "train_DMS_prot_datasets = {protein_name:dms_datasets}\n",
    "test_DMS_prot_datasets = {}\n",
    "\n",
    "random_state = 12345\n",
    "n_folds=5\n",
    "num_workers=torch.get_num_threads()\n",
    "pin_memory=False\n",
    "verbose=0\n",
    "batch_size=8\n",
    "\n",
    "from sklearn.model_selection import KFold\n",
    "\n",
    "# Seeded random split\n",
    "train_val_idxes = {protein_name: {dataset_name: \n",
    "                                  list(KFold(n_folds, shuffle=True, random_state=random_state).split(np.arange(len(v[dataset_name]))))\n",
    "                                for dataset_name in v.keys()\n",
    "                                }\n",
    "                for protein_name, v in train_DMS_prot_datasets.items()\n",
    "                }\n",
    "\n",
    "train_DMS_prot_dataloaders, test_DMS_prot_dataloaders = \\\n",
    "    prepare_dms_dataloaders(train_DMS_prot_datasets, test_DMS_prot_datasets, num_workers, pin_memory, batch_size,\n",
    "    fold_idx=fold_idx, train_val_idxes=train_val_idxes, verbose=verbose)"
   ]
  },
  {
   "cell_type": "code",
   "execution_count": null,
   "id": "6678ffd6-01ef-40e7-947c-ac826f805061",
   "metadata": {},
   "outputs": [],
   "source": [
    "Lit.Trainer().validate(model,test_DMS_prot_dataloaders)"
   ]
  },
  {
   "cell_type": "markdown",
   "id": "5f2a3339-f77d-48d6-822e-b561fd683856",
   "metadata": {},
   "source": [
    "# The prototypes"
   ]
  },
  {
   "cell_type": "code",
   "execution_count": 15,
   "id": "fe3fa0ce-fa56-4a53-8f37-7492f6811584",
   "metadata": {},
   "outputs": [],
   "source": [
    "def get_aa_dict():\n",
    "    \"\"\"Declare the alphabet\"\"\"\n",
    "    alphabet = \"ACDEFGHIKLMNPQRSTVWY\"\n",
    "    aa_dict = {}\n",
    "    for i, aa in enumerate(alphabet):\n",
    "        aa_dict[aa] = i\n",
    "    return aa_dict\n",
    "aa_dict = get_aa_dict()"
   ]
  },
  {
   "cell_type": "code",
   "execution_count": 16,
   "id": "74aaa21c-1fbc-4d4f-9605-79ea219ae3a0",
   "metadata": {},
   "outputs": [
    {
     "data": {
      "text/plain": [
       "{'A': 0,\n",
       " 'C': 1,\n",
       " 'D': 2,\n",
       " 'E': 3,\n",
       " 'F': 4,\n",
       " 'G': 5,\n",
       " 'H': 6,\n",
       " 'I': 7,\n",
       " 'K': 8,\n",
       " 'L': 9,\n",
       " 'M': 10,\n",
       " 'N': 11,\n",
       " 'P': 12,\n",
       " 'Q': 13,\n",
       " 'R': 14,\n",
       " 'S': 15,\n",
       " 'T': 16,\n",
       " 'V': 17,\n",
       " 'W': 18,\n",
       " 'Y': 19}"
      ]
     },
     "execution_count": 16,
     "metadata": {},
     "output_type": "execute_result"
    }
   ],
   "source": [
    "aa_dict"
   ]
  },
  {
   "cell_type": "code",
   "execution_count": 17,
   "id": "1a9b771d-ea6d-4bd1-8fd3-1c8c66be85f8",
   "metadata": {},
   "outputs": [
    {
     "data": {
      "text/plain": [
       "tensor([[ 4, 14,  4,  ...,  7,  8, 19],\n",
       "        [ 2,  0,  0,  ...,  7, 15,  1],\n",
       "        [16,  0,  4,  ...,  6,  8,  6],\n",
       "        [15,  8, 13,  ..., 12, 19, 19],\n",
       "        [ 2,  1, 14,  ..., 12, 19,  8]])"
      ]
     },
     "execution_count": 17,
     "metadata": {},
     "output_type": "execute_result"
    }
   ],
   "source": [
    "prototypes_continuous = model.model.Prior.prototypes\n",
    "prototypes_softmax = model.model.Prior.prototypes.softmax(-1)\n",
    "prototypes_index = model.model.Prior.prototypes.argmax(-1)\n",
    "print(\"The shape:\", prototypes_index.shape)"
   ]
  },
  {
   "cell_type": "code",
   "execution_count": 19,
   "id": "88632d85-6dc5-4766-be8b-e96199d4a421",
   "metadata": {},
   "outputs": [
    {
     "data": {
      "text/plain": [
       "tensor([[ 4, 14,  4,  ...,  7,  8, 19],\n",
       "        [ 2,  0,  0,  ...,  7, 15,  1],\n",
       "        [16,  0,  4,  ...,  6,  8,  6],\n",
       "        [15,  8, 13,  ..., 12, 19, 19],\n",
       "        [ 2,  1, 14,  ..., 12, 19,  8]])"
      ]
     },
     "execution_count": 19,
     "metadata": {},
     "output_type": "execute_result"
    }
   ],
   "source": [
    "# Each number is the index of a letter in aa_dict\n",
    "prototypes_index"
   ]
  }
 ],
 "metadata": {
  "kernelspec": {
   "display_name": "pyEVE",
   "language": "python",
   "name": "pyeve"
  },
  "language_info": {
   "codemirror_mode": {
    "name": "ipython",
    "version": 3
   },
   "file_extension": ".py",
   "mimetype": "text/x-python",
   "name": "python",
   "nbconvert_exporter": "python",
   "pygments_lexer": "ipython3",
   "version": "3.12.3"
  }
 },
 "nbformat": 4,
 "nbformat_minor": 5
}
